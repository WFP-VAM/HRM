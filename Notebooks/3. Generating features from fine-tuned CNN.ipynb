{
 "cells": [
  {
   "cell_type": "markdown",
   "metadata": {},
   "source": [
    "## Purpose\n",
    "in this notebook we use a pretrained neural network to extract features for every image downloaded in notebook 2."
   ]
  },
  {
   "cell_type": "code",
   "execution_count": 1,
   "metadata": {},
   "outputs": [],
   "source": [
    "import pandas as pd\n",
    "import sys\n",
    "sys.path.append('../Src')\n",
    "from nn_extractor import NNExtractor"
   ]
  },
  {
   "cell_type": "markdown",
   "metadata": {},
   "source": [
    "Reload out GRID object, defined in notebook 2."
   ]
  },
  {
   "cell_type": "code",
   "execution_count": 2,
   "metadata": {},
   "outputs": [],
   "source": [
    "from img_lib import RasterGrid\n",
    "GRID = RasterGrid(\"../tmp/local_raster.tif\")"
   ]
  },
  {
   "cell_type": "markdown",
   "metadata": {
    "collapsed": true
   },
   "source": [
    "### loading the pre-trained model\n",
    "now we load the NNExtractor. This object handles the neural network (type is defined the config) used to extract the features. For more informartion on how the networks are trained, please visit [this](https://github.com/WFP-VAM/HRM_NN_Training) repository. "
   ]
  },
  {
   "cell_type": "code",
   "execution_count": 3,
   "metadata": {},
   "outputs": [
    {
     "name": "stdout",
     "output_type": "stream",
     "text": [
      "INFO: loading model for Google Images ...\n"
     ]
    }
   ],
   "source": [
    "network = NNExtractor(1000, # config_id\n",
    "                      '../Data/Satellite/Google', # images directory\n",
    "                      'Google', # model for the Google images\n",
    "                      0, # buffer step\n",
    "                      GRID)"
   ]
  },
  {
   "cell_type": "markdown",
   "metadata": {},
   "source": [
    "### Extract features\n",
    "Now each image in the `output_image_dir` is scored by the model and the features are returned. PCA will reduce the number of features from 256 to 10."
   ]
  },
  {
   "cell_type": "code",
   "execution_count": 4,
   "metadata": {},
   "outputs": [],
   "source": [
    "import pandas as pd\n",
    "data = pd.read_csv('../Data/datasets/sample_Moza.csv')\n",
    "list_i, list_j = GRID.get_gridcoordinates(data)"
   ]
  },
  {
   "cell_type": "code",
   "execution_count": 5,
   "metadata": {},
   "outputs": [
    {
     "name": "stdout",
     "output_type": "stream",
     "text": [
      "Feature extraction : 40 tiles out of 42\r"
     ]
    }
   ],
   "source": [
    "features = network.extract_features(list_i, list_j, \n",
    "                                    'Google', # Satellite, either Google or Sentinel \n",
    "                                     '2018-01-01', # images dates start\n",
    "                                     '2018-08-01' # images dates end\n",
    "                                   )"
   ]
  },
  {
   "cell_type": "code",
   "execution_count": 7,
   "metadata": {},
   "outputs": [],
   "source": [
    "features.to_csv('../Data/Features/Google_features.csv')"
   ]
  },
  {
   "cell_type": "code",
   "execution_count": 8,
   "metadata": {},
   "outputs": [
    {
     "data": {
      "text/html": [
       "<div>\n",
       "<style scoped>\n",
       "    .dataframe tbody tr th:only-of-type {\n",
       "        vertical-align: middle;\n",
       "    }\n",
       "\n",
       "    .dataframe tbody tr th {\n",
       "        vertical-align: top;\n",
       "    }\n",
       "\n",
       "    .dataframe thead th {\n",
       "        text-align: right;\n",
       "    }\n",
       "</style>\n",
       "<table border=\"1\" class=\"dataframe\">\n",
       "  <thead>\n",
       "    <tr style=\"text-align: right;\">\n",
       "      <th></th>\n",
       "      <th>0_Google</th>\n",
       "      <th>1_Google</th>\n",
       "      <th>2_Google</th>\n",
       "      <th>3_Google</th>\n",
       "      <th>4_Google</th>\n",
       "      <th>5_Google</th>\n",
       "      <th>6_Google</th>\n",
       "      <th>7_Google</th>\n",
       "      <th>8_Google</th>\n",
       "      <th>9_Google</th>\n",
       "      <th>index</th>\n",
       "      <th>i</th>\n",
       "      <th>j</th>\n",
       "    </tr>\n",
       "  </thead>\n",
       "  <tbody>\n",
       "    <tr>\n",
       "      <th>0</th>\n",
       "      <td>1.057184</td>\n",
       "      <td>-0.600611</td>\n",
       "      <td>-1.194660</td>\n",
       "      <td>0.284063</td>\n",
       "      <td>-0.129395</td>\n",
       "      <td>-0.097782</td>\n",
       "      <td>0.104964</td>\n",
       "      <td>1.018045</td>\n",
       "      <td>-0.114727</td>\n",
       "      <td>1.107579</td>\n",
       "      <td>4406_17092</td>\n",
       "      <td>4406</td>\n",
       "      <td>17092</td>\n",
       "    </tr>\n",
       "    <tr>\n",
       "      <th>1</th>\n",
       "      <td>-1.005378</td>\n",
       "      <td>0.079762</td>\n",
       "      <td>-0.219501</td>\n",
       "      <td>-1.040109</td>\n",
       "      <td>0.246922</td>\n",
       "      <td>-0.501821</td>\n",
       "      <td>-1.084462</td>\n",
       "      <td>-0.865328</td>\n",
       "      <td>0.237312</td>\n",
       "      <td>-0.067855</td>\n",
       "      <td>6175_6896</td>\n",
       "      <td>6175</td>\n",
       "      <td>6896</td>\n",
       "    </tr>\n",
       "    <tr>\n",
       "      <th>2</th>\n",
       "      <td>-0.167339</td>\n",
       "      <td>0.457106</td>\n",
       "      <td>0.706926</td>\n",
       "      <td>-0.464920</td>\n",
       "      <td>-0.661461</td>\n",
       "      <td>0.381518</td>\n",
       "      <td>-0.983274</td>\n",
       "      <td>0.250005</td>\n",
       "      <td>-0.589190</td>\n",
       "      <td>0.710229</td>\n",
       "      <td>11588_3175</td>\n",
       "      <td>11588</td>\n",
       "      <td>3175</td>\n",
       "    </tr>\n",
       "    <tr>\n",
       "      <th>3</th>\n",
       "      <td>-1.308773</td>\n",
       "      <td>-1.253289</td>\n",
       "      <td>-0.533210</td>\n",
       "      <td>1.038946</td>\n",
       "      <td>3.583673</td>\n",
       "      <td>0.752364</td>\n",
       "      <td>1.301538</td>\n",
       "      <td>-1.305947</td>\n",
       "      <td>-0.925933</td>\n",
       "      <td>2.023644</td>\n",
       "      <td>4041_11386</td>\n",
       "      <td>4041</td>\n",
       "      <td>11386</td>\n",
       "    </tr>\n",
       "    <tr>\n",
       "      <th>4</th>\n",
       "      <td>-1.340525</td>\n",
       "      <td>-0.082716</td>\n",
       "      <td>-0.857990</td>\n",
       "      <td>-0.567197</td>\n",
       "      <td>1.023510</td>\n",
       "      <td>-0.769448</td>\n",
       "      <td>-0.867170</td>\n",
       "      <td>-0.300176</td>\n",
       "      <td>-0.260358</td>\n",
       "      <td>0.712487</td>\n",
       "      <td>4146_5926</td>\n",
       "      <td>4146</td>\n",
       "      <td>5926</td>\n",
       "    </tr>\n",
       "  </tbody>\n",
       "</table>\n",
       "</div>"
      ],
      "text/plain": [
       "   0_Google  1_Google  2_Google  3_Google  4_Google  5_Google  6_Google  \\\n",
       "0  1.057184 -0.600611 -1.194660  0.284063 -0.129395 -0.097782  0.104964   \n",
       "1 -1.005378  0.079762 -0.219501 -1.040109  0.246922 -0.501821 -1.084462   \n",
       "2 -0.167339  0.457106  0.706926 -0.464920 -0.661461  0.381518 -0.983274   \n",
       "3 -1.308773 -1.253289 -0.533210  1.038946  3.583673  0.752364  1.301538   \n",
       "4 -1.340525 -0.082716 -0.857990 -0.567197  1.023510 -0.769448 -0.867170   \n",
       "\n",
       "   7_Google  8_Google  9_Google       index      i      j  \n",
       "0  1.018045 -0.114727  1.107579  4406_17092   4406  17092  \n",
       "1 -0.865328  0.237312 -0.067855   6175_6896   6175   6896  \n",
       "2  0.250005 -0.589190  0.710229  11588_3175  11588   3175  \n",
       "3 -1.305947 -0.925933  2.023644  4041_11386   4041  11386  \n",
       "4 -0.300176 -0.260358  0.712487   4146_5926   4146   5926  "
      ]
     },
     "execution_count": 8,
     "metadata": {},
     "output_type": "execute_result"
    }
   ],
   "source": [
    "features.head()"
   ]
  },
  {
   "cell_type": "code",
   "execution_count": null,
   "metadata": {},
   "outputs": [],
   "source": []
  }
 ],
 "metadata": {
  "kernelspec": {
   "display_name": "Python 3",
   "language": "python",
   "name": "python3"
  },
  "language_info": {
   "codemirror_mode": {
    "name": "ipython",
    "version": 3
   },
   "file_extension": ".py",
   "mimetype": "text/x-python",
   "name": "python",
   "nbconvert_exporter": "python",
   "pygments_lexer": "ipython3",
   "version": "3.5.6"
  }
 },
 "nbformat": 4,
 "nbformat_minor": 1
}
