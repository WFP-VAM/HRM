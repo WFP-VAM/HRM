{
 "cells": [
  {
   "cell_type": "markdown",
   "metadata": {},
   "source": [
    "## Download Relevant Satellite Images\n",
    "With this notebook we show the standard pipeline for defining a geospatial grid and downloading the images from Google and Senintel2, using the HRM codebase. It should give you an understanding of how it works.\n",
    "\n",
    "The aim of this section is to downlaod images from the Google Static API and Google Earth Engine API that are relavent to the survey conducted, i.e. each survey *cluster* will have one or more Google and Sentinel images.\n",
    "\n",
    "The base layer that we will be working in and used to define the GRID object is currently the [WorldPop raster](http://www.worldpop.org.uk/data/data_sources/).  "
   ]
  },
  {
   "cell_type": "code",
   "execution_count": 1,
   "metadata": {
    "collapsed": true
   },
   "outputs": [],
   "source": [
    "import sys\n",
    "sys.path.append(\"../Src\")"
   ]
  },
  {
   "cell_type": "markdown",
   "metadata": {},
   "source": [
    "### WorlPop Raster\n",
    "The grid used is based on the WorldPop population raster, as we find this to be the most realiable source of settlements. First off we aggregate the raster relevant for the country to make it lighter. A function called *aggregate* is used."
   ]
  },
  {
   "cell_type": "code",
   "execution_count": 9,
   "metadata": {
    "collapsed": true
   },
   "outputs": [],
   "source": [
    "from utils import aggregate\n",
    "raster = '../Data/Geofiles/Rasters/Mozambique_worldpop.tif'\n",
    "base_raster = \"../tmp/local_raster.tif\"\n",
    "scale = 1\n",
    "\n",
    "aggregate(raster, base_raster, scale)"
   ]
  },
  {
   "cell_type": "markdown",
   "metadata": {},
   "source": [
    "### Instantiate the RasterGrid object\n",
    "Now we instantiate the `RasterGrid()` object based on the aggregated WorlPop raster."
   ]
  },
  {
   "cell_type": "code",
   "execution_count": 11,
   "metadata": {
    "collapsed": true
   },
   "outputs": [],
   "source": [
    "from img_lib import RasterGrid\n",
    "GRID = RasterGrid(base_raster)"
   ]
  },
  {
   "cell_type": "markdown",
   "metadata": {},
   "source": [
    "We can now get the GRID coordinates associated with the survey data."
   ]
  },
  {
   "cell_type": "code",
   "execution_count": 12,
   "metadata": {
    "collapsed": true
   },
   "outputs": [],
   "source": [
    "import pandas as pd\n",
    "data = pd.read_csv('../Data/datasets/sample_Moza.csv')\n",
    "data_cols = data.columns.values"
   ]
  },
  {
   "cell_type": "markdown",
   "metadata": {},
   "source": [
    "and prepare the list of gridpoints of the survey cluster, used later to downlaod the images."
   ]
  },
  {
   "cell_type": "code",
   "execution_count": 13,
   "metadata": {
    "collapsed": true
   },
   "outputs": [],
   "source": [
    "list_i, list_j = GRID.get_gridcoordinates(data)"
   ]
  },
  {
   "cell_type": "markdown",
   "metadata": {},
   "source": [
    "### Pull images from the configured API\n",
    "The images will be downloaded with the `download_images` method and put in `../Data/Satellite/+provider` where provider is eithr Google or Sentienl."
   ]
  },
  {
   "cell_type": "code",
   "execution_count": 17,
   "metadata": {
    "scrolled": true
   },
   "outputs": [
    {
     "name": "stdout",
     "output_type": "stream",
     "text": [
      "INFO: 0 images downloaded out of 42\r",
      "INFO: 33.88869_-24.71349_16.jpg already downloaded\r",
      "INFO: 1 images downloaded out of 42\r",
      "INFO: 35.3628_-16.21717_16.jpg already downloaded\r",
      "INFO: 2 images downloaded out of 42\r",
      "INFO: 39.87346_-13.11646_16.jpg already downloaded\r",
      "INFO: 3 images downloaded out of 42\r",
      "INFO: 33.58454_-19.95868_16.jpg already downloaded\r",
      "INFO: 4 images downloaded out of 42\r",
      "INFO: 33.67204_-15.40886_16.jpg already downloaded\r",
      "INFO: 5 images downloaded out of 42\r",
      "INFO: 39.15098_-16.06634_16.jpg already downloaded\r",
      "INFO: 6 images downloaded out of 42\r",
      "INFO: 32.23793_-25.59596_16.jpg already downloaded\r",
      "INFO: 7 images downloaded out of 42\r",
      "INFO: 36.1411_-13.46728_16.jpg already downloaded\r",
      "INFO: 8 images downloaded out of 42\r",
      "INFO: 34.98282_-18.48124_16.jpg already downloaded\r",
      "INFO: 9 images downloaded out of 42\r",
      "INFO: 32.55375_-23.43021_16.jpg already downloaded\r",
      "INFO: 10 images downloaded out of 42\r",
      "INFO: 37.18606_-15.74635_16.jpg already downloaded\r",
      "INFO: 11 images downloaded out of 42\r",
      "INFO: 32.16293_-15.90718_16.jpg already downloaded\r",
      "INFO: 12 images downloaded out of 42\r",
      "INFO: 37.49688_-17.32545_16.jpg already downloaded\r",
      "INFO: 13 images downloaded out of 42\r",
      "INFO: 33.18706_-18.86789_16.jpg already downloaded\r",
      "INFO: 14 images downloaded out of 42\r",
      "INFO: 40.31594_-14.54807_16.jpg already downloaded\r",
      "INFO: 15 images downloaded out of 42\r",
      "INFO: 35.15531_-23.89852_16.jpg already downloaded\r",
      "INFO: 16 images downloaded out of 42\r",
      "INFO: 32.73874_-20.76948_16.jpg already downloaded\r",
      "INFO: 17 images downloaded out of 42\r",
      "INFO: 34.17618_-17.25212_16.jpg already downloaded\r",
      "INFO: 18 images downloaded out of 42\r",
      "INFO: 37.44939_-14.33474_16.jpg already downloaded\r",
      "INFO: 19 images downloaded out of 42\r",
      "INFO: 38.82433_-12.97563_16.jpg already downloaded\r",
      "INFO: 20 images downloaded out of 42\r",
      "INFO: 34.68366_-21.08697_16.jpg already downloaded\r",
      "INFO: 21 images downloaded out of 42\r",
      "INFO: 39.86762_-13.81143_16.jpg already downloaded\r",
      "INFO: 22 images downloaded out of 42\r",
      "INFO: 35.67446_-17.21796_16.jpg already downloaded\r",
      "INFO: 23 images downloaded out of 42\r",
      "INFO: 35.3128_-13.7656_16.jpg already downloaded\r",
      "INFO: 24 images downloaded out of 42\r",
      "INFO: 35.73112_-17.98543_16.jpg already downloaded\r",
      "INFO: 25 images downloaded out of 42\r",
      "INFO: 39.5543_-11.65901_16.jpg already downloaded\r",
      "INFO: 26 images downloaded out of 42\r",
      "INFO: 33.00956_-25.4043_16.jpg already downloaded\r",
      "INFO: 27 images downloaded out of 42\r",
      "INFO: 33.40955_-16.38966_16.jpg already downloaded\r",
      "INFO: 28 images downloaded out of 42\r",
      "INFO: 35.04948_-12.90396_16.jpg already downloaded\r",
      "INFO: 29 images downloaded out of 42\r",
      "INFO: 32.48375_-25.90928_16.jpg already downloaded\r",
      "INFO: 30 images downloaded out of 42\r",
      "INFO: 32.87207_-24.41017_16.jpg already downloaded\r",
      "INFO: 31 images downloaded out of 42\r",
      "INFO: 38.90016_-14.58056_16.jpg already downloaded\r",
      "INFO: 32 images downloaded out of 42\r",
      "INFO: 32.28293_-14.98138_16.jpg already downloaded\r",
      "INFO: 33 images downloaded out of 42\r",
      "INFO: 34.40367_-19.41287_16.jpg already downloaded\r",
      "INFO: 34 images downloaded out of 42\r",
      "INFO: 36.53109_-14.80472_16.jpg already downloaded\r",
      "INFO: 35 images downloaded out of 42\r",
      "INFO: 33.42705_-22.62358_16.jpg already downloaded\r",
      "INFO: 36 images downloaded out of 42\r",
      "INFO: 33.28122_-21.32363_16.jpg already downloaded\r",
      "INFO: 37 images downloaded out of 42\r",
      "INFO: 40.42843_-12.54231_16.jpg already downloaded\r",
      "INFO: 38 images downloaded out of 42\r",
      "INFO: 40.19428_-15.68719_16.jpg already downloaded\r",
      "INFO: 39 images downloaded out of 42\r",
      "INFO: 31.69045_-22.07693_16.jpg already downloaded\r",
      "INFO: 40 images downloaded out of 42\r",
      "INFO: 34.28035_-24.87015_16.jpg already downloaded\r",
      "INFO: 41 images downloaded out of 42\r",
      "INFO: 36.58359_-16.80214_16.jpg already downloaded\r"
     ]
    }
   ],
   "source": [
    "GRID.download_images(list_i, list_j, \n",
    "                     0, # if you want to buffer images around the point \n",
    "                     'Google', # satellite source, either Google or Sentinel  \n",
    "                     '2018-01-01', # images dates start\n",
    "                     '2018-08-01', # images dates end\n",
    "                     zoom_vhr=16, # zoom level for Google static API \n",
    "                     img_size_sentinel=5000 # 5x5km for Sentinel imgs\n",
    "                    )"
   ]
  },
  {
   "cell_type": "code",
   "execution_count": 21,
   "metadata": {},
   "outputs": [
    {
     "name": "stdout",
     "output_type": "stream",
     "text": [
      "INFO: 41 images downloaded out of 42\r"
     ]
    }
   ],
   "source": [
    "GRID.download_images(list_i, list_j, \n",
    "                     0, # if you want to buffer images around the point \n",
    "                     'Sentinel', # satellite source, either Google or Sentinel  \n",
    "                     '2018-01-01', # images dates start\n",
    "                     '2018-08-01', # images dates end\n",
    "                     zoom_vhr=16, # zoom level for Google static API \n",
    "                     img_size_sentinel=5000 # 5x5km for Sentinel imgs\n",
    "                    )"
   ]
  },
  {
   "cell_type": "code",
   "execution_count": null,
   "metadata": {
    "collapsed": true
   },
   "outputs": [],
   "source": []
  }
 ],
 "metadata": {
  "kernelspec": {
   "display_name": "Python 3",
   "language": "python",
   "name": "python3"
  },
  "language_info": {
   "codemirror_mode": {
    "name": "ipython",
    "version": 3
   },
   "file_extension": ".py",
   "mimetype": "text/x-python",
   "name": "python",
   "nbconvert_exporter": "python",
   "pygments_lexer": "ipython3",
   "version": "3.6.2"
  }
 },
 "nbformat": 4,
 "nbformat_minor": 1
}
