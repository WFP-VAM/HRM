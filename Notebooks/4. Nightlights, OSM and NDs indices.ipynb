{
 "cells": [
  {
   "cell_type": "markdown",
   "metadata": {},
   "source": [
    "# OSM, Nightlights and Remote Sensing Indicies\n",
    "Now we add at every survey location features from OpenStreetMap, Nightlights (night-time luminosity) and remote sensing indicies from Sentinel. First off lets import the survey data to define the area of interest."
   ]
  },
  {
   "cell_type": "code",
   "execution_count": 1,
   "metadata": {},
   "outputs": [],
   "source": [
    "import sys\n",
    "sys.path.append(\"../Src\")"
   ]
  },
  {
   "cell_type": "code",
   "execution_count": 3,
   "metadata": {},
   "outputs": [],
   "source": [
    "import pandas as pd\n",
    "from utils import df_boundaries, points_to_polygon\n",
    "data = pd.read_csv('../Data/datasets/sample_Moza.csv')\n",
    "minlat, maxlat, minlon, maxlon = df_boundaries(data, buffer=0.05, lat_col=\"gpsLatitude\", lon_col=\"gpsLongitude\")\n",
    "area = points_to_polygon(minlon, minlat, maxlon, maxlat)"
   ]
  },
  {
   "cell_type": "markdown",
   "metadata": {},
   "source": [
    "### Nightlights\n",
    "Nightlights are highly correlated with poverty (Neal, J.) and from our experience, to some extent with food security. For each AOI and relevant period, we derive the luminosity from the National Oceanic and Atmospheric Administration (NOAA) of the US Department of Commerce. In particular we use the NOAA Visible Infrared Imaging Radiometer Suite (VIIRS) monthly product, normalized by the DMSP-OLS Nighttime Lights Time Series, also from NOAA. The result is a georeferenced dataset with the luminosity shown on a 100 metre x 100 metre grid. Each surveyed cluster is then assigned an average luminosity from the area around its location. The core of the code that handles this data source is the nightlights class."
   ]
  },
  {
   "cell_type": "code",
   "execution_count": 4,
   "metadata": {},
   "outputs": [
    {
     "name": "stdout",
     "output_type": "stream",
     "text": [
      "INFO: downloading nightlights for area of interest ...\n"
     ]
    }
   ],
   "source": [
    "from nightlights import Nightlights\n",
    "\n",
    "NGT = Nightlights(area, \n",
    "                  '../Data/Geofiles/nightlights/', \n",
    "                  '2018-01-01', \n",
    "                  '2018-08-01')\n",
    "\n",
    "data['nightlights'] = NGT.nightlights_values(data)"
   ]
  },
  {
   "cell_type": "markdown",
   "metadata": {},
   "source": [
    "### OpenStreetMap\n",
    "Open Street Map (OSM) is often the most accurate source of data on infrastructure in developing countries. All the data can be easily accessed and downloaded through the OverPass API.\n",
    "\n",
    "\n",
    "We currently extract the location of schools and hospitals in the AOI from Open Street Map and compute the distance of the AOI to the closest school and hospital. Other infrastructure locations could be extracted such as parks, roads, and trees. However, the completeness of these layers varies a lot from country to country and even within the same country. We found that schools and hospitals have been the features most thoroughly mapped by OSM volunteers across our countries of interest.  "
   ]
  },
  {
   "cell_type": "code",
   "execution_count": 8,
   "metadata": {},
   "outputs": [
    {
     "name": "stdout",
     "output_type": "stream",
     "text": [
      "INFO: Downloading OSM data for amenity = school\n",
      "INFO: OSM data for amenity = school downloaded. N lines: \n",
      "INFO: Downloading OSM data for amenity = hospital\n",
      "INFO: OSM data for amenity = hospital downloaded. N lines: \n",
      "INFO: Downloading OSM data for natural = tree\n",
      "INFO: OSM data for natural = tree downloaded. N lines: \n"
     ]
    }
   ],
   "source": [
    "from osm import OSM_extractor\n",
    "import numpy as np\n",
    "        \n",
    "OSM = OSM_extractor(minlon, minlat, maxlon, maxlat)\n",
    "tags = {\"amenity\": [\"school\", \"hospital\"], \"natural\": [\"tree\"]}\n",
    "osm_gdf = {}\n",
    "osm_features = []\n",
    "\n",
    "for key, values in tags.items():\n",
    "    for value in values:\n",
    "        osm_gdf[\"value\"] = OSM.download(key, value)\n",
    "        osm_tree = OSM.gpd_to_tree(osm_gdf[\"value\"])\n",
    "        dist = data.apply(OSM.distance_to_nearest, args=(osm_tree,), axis=1)\n",
    "        data['distance_{}'.format(value)] = dist.apply(lambda x: np.log(0.0001 + x))\n",
    "        osm_features.append('distance_{}'.format(value))        "
   ]
  },
  {
   "cell_type": "markdown",
   "metadata": {},
   "source": [
    "### NDBI,NDVI,NDWI\n",
    "Sentinel-2 is an Earth observation mission of the European Space Agency (ESA) launched in 2015. Multi-spectral images of the earth are available every five days at a resolution of ten metres. We use the Google Earth Engine platform to access and compute indices on these imageries. Currently, we extract three indices from four spectral bands (green, red, near infrared and shortwave infrared bands) at a given x, y location:\n",
    "\n",
    "\n",
    "- NDVI: The Normalized Difference Vegetation Index is computed from the Red and Near-Infrared bands using the following formula : NDVI = (NIR - R) / (NIR + R). NDVI is used globally by the scientific community to monitor the health of vegetation\n",
    "- NDWI: The Normalized Difference Water Index is computed from the Green and Infrared bands using the following formula: NDWI = (G - NIR) / (G + NIR)\n",
    "- NDBI: The Normalized Difference Built-up Index is computed from the Panchromatic and Shortwave Infrared (SWIR) and Near-Infrared bands using the following formula: NDBI = (NIR - SWIR) / (NIR + SWIR)"
   ]
  },
  {
   "cell_type": "code",
   "execution_count": 9,
   "metadata": {},
   "outputs": [
    {
     "data": {
      "text/plain": [
       "[[[31.25342, -26.62219],\n",
       "  [40.86516, -26.62219],\n",
       "  [40.86516, -10.94615],\n",
       "  [31.25342, -10.94615],\n",
       "  [31.25342, -26.62219]]]"
      ]
     },
     "execution_count": 9,
     "metadata": {},
     "output_type": "execute_result"
    }
   ],
   "source": [
    "area['coordinates']"
   ]
  },
  {
   "cell_type": "code",
   "execution_count": 10,
   "metadata": {},
   "outputs": [
    {
     "name": "stdout",
     "output_type": "stream",
     "text": [
      "INFO: downloading rms indexes for area of interest ...\n",
      "INFO: NDs scope -> country\n",
      "cb3d6c6fcd52d814a8fc7f99e6789fe1.NDVI_max.tif NDVI_max.tif\n",
      "cb3d6c6fcd52d814a8fc7f99e6789fe1.NDBI_max.tif NDBI_max.tif\n",
      "cb3d6c6fcd52d814a8fc7f99e6789fe1.NDWI_max.tif NDWI_max.tif\n"
     ]
    }
   ],
   "source": [
    "from rms_indexes import S2indexes\n",
    "\n",
    "S2 = S2indexes(area, '../Data/Geofiles/NDs/', '2018-01-01', '2018-08-01', 'country')\n",
    "S2.download()\n",
    "data[['max_NDVI', 'max_NDBI', 'max_NDWI']] = S2.rms_values(data).apply(pd.Series)"
   ]
  },
  {
   "cell_type": "code",
   "execution_count": null,
   "metadata": {
    "collapsed": true
   },
   "outputs": [],
   "source": [
    "data.to_csv(\"../Data/Features/features_demo_evaluation.csv\", index=False)"
   ]
  }
 ],
 "metadata": {
  "kernelspec": {
   "display_name": "Python 3",
   "language": "python",
   "name": "python3"
  },
  "language_info": {
   "codemirror_mode": {
    "name": "ipython",
    "version": 3
   },
   "file_extension": ".py",
   "mimetype": "text/x-python",
   "name": "python",
   "nbconvert_exporter": "python",
   "pygments_lexer": "ipython3",
   "version": "3.5.6"
  }
 },
 "nbformat": 4,
 "nbformat_minor": 2
}
