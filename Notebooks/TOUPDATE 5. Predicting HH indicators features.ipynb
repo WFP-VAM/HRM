{
 "cells": [
  {
   "cell_type": "code",
   "execution_count": 1,
   "metadata": {},
   "outputs": [],
   "source": [
    "import pandas as pd \n",
    "import numpy as np\n",
    "import matplotlib.pyplot as plt\n",
    "from sklearn.decomposition import PCA\n",
    "from sklearn.linear_model import Ridge\n",
    "from sklearn.metrics import r2_score, make_scorer\n",
    "%matplotlib inline \n",
    "import sys\n",
    "sys.path.append(\"../Src\")"
   ]
  },
  {
   "cell_type": "markdown",
   "metadata": {},
   "source": [
    "# 1. Using the Modeller class"
   ]
  },
  {
   "cell_type": "markdown",
   "metadata": {},
   "source": [
    "Loading features and instantiating the Modeller class"
   ]
  },
  {
   "cell_type": "code",
   "execution_count": 71,
   "metadata": {},
   "outputs": [],
   "source": [
    "features = pd.read_csv(\"../Data/Features/features_all_id_6000_evaluation.csv\")"
   ]
  },
  {
   "cell_type": "code",
   "execution_count": 73,
   "metadata": {},
   "outputs": [],
   "source": [
    "features_list = ['0_Google', '1_Google',\n",
    "       '2_Google', '3_Google', '4_Google', '5_Google', '6_Google', '7_Google',\n",
    "       '8_Google', '9_Google', '0_Sentinel', '1_Sentinel', '2_Sentinel',\n",
    "       '3_Sentinel', '4_Sentinel', '5_Sentinel', '6_Sentinel', '7_Sentinel',\n",
    "       '8_Sentinel', '9_Sentinel', 'nightlights', 'distance_school',\n",
    "       'distance_hospital', 'distance_tree', 'max_NDVI', 'max_NDBI',\n",
    "       'max_NDWI', 'fatalities_10000', 'fatalities_100000', 'n_events_10000',\n",
    "       'n_events_100000', 'violence_civ_10000', 'violence_civ_100000',\n",
    "       'weighted_sum_fatalities_by_dist', 'distance_to_acled_event']\n",
    "from modeller import Modeller\n",
    "X, y = features.reset_index(), features['FCS_mean']\n",
    "modeller = Modeller(X, rs_features=features_list, spatial_features=[\"gpsLatitude\", \"gpsLongitude\"], scoring='r2', cv_loops=20)"
   ]
  },
  {
   "cell_type": "code",
   "execution_count": 74,
   "metadata": {},
   "outputs": [
    {
     "name": "stdout",
     "output_type": "stream",
     "text": [
      "kNN_R2_mean:  0.5113735840713777 kNN_R2_std:  0.07245634870925323\n"
     ]
    }
   ],
   "source": [
    "kNN_pipeline = modeller.make_model_pipeline('kNN')\n",
    "kNN_scores = modeller.compute_scores(kNN_pipeline, y)\n",
    "kNN_R2_mean = kNN_scores.mean()\n",
    "kNN_R2_std = kNN_scores.std()\n",
    "print(\"kNN_R2_mean: \", kNN_R2_mean, \"kNN_R2_std: \", kNN_R2_std)"
   ]
  },
  {
   "cell_type": "code",
   "execution_count": 76,
   "metadata": {},
   "outputs": [
    {
     "name": "stdout",
     "output_type": "stream",
     "text": [
      "MAPE on kNN:  0.46403521351835597\n"
     ]
    }
   ],
   "source": [
    "from sklearn.model_selection import cross_val_predict\n",
    "results = pd.DataFrame({\n",
    "        'yhat': cross_val_predict(kNN_pipeline, X.values, y),\n",
    "        'y': features['FCS_mean'].values})\n",
    "import numpy as np\n",
    "print('MAPE on kNN: ', np.mean(np.abs(results['yhat'] - results['y'])/results['y']))"
   ]
  },
  {
   "cell_type": "code",
   "execution_count": 77,
   "metadata": {},
   "outputs": [
    {
     "name": "stdout",
     "output_type": "stream",
     "text": [
      "Ridge_R2_mean:  0.09034678062371362 Ridge_R2_std:  0.06345442819024727\n"
     ]
    }
   ],
   "source": [
    "Ridge_pipeline = modeller.make_model_pipeline('Ridge')\n",
    "Ridge_scores = modeller.compute_scores(Ridge_pipeline, y)\n",
    "Ridge_R2_mean = np.abs(Ridge_scores).mean()\n",
    "Ridge_R2_std = Ridge_scores.std()\n",
    "print(\"Ridge_R2_mean: \", Ridge_R2_mean, \"Ridge_R2_std: \", Ridge_R2_std)"
   ]
  },
  {
   "cell_type": "code",
   "execution_count": 78,
   "metadata": {},
   "outputs": [
    {
     "name": "stdout",
     "output_type": "stream",
     "text": [
      "MAPE on Ridge:  0.5570895016528906\n"
     ]
    }
   ],
   "source": [
    "from sklearn.model_selection import cross_val_predict\n",
    "results = pd.DataFrame({\n",
    "        'yhat': cross_val_predict(Ridge_pipeline, X.values, y),\n",
    "        'y': features['FCS_mean'].values})\n",
    "import numpy as np\n",
    "print('MAPE on Ridge: ', np.mean(np.abs(results['yhat'] - results['y'])/results['y']))"
   ]
  },
  {
   "cell_type": "markdown",
   "metadata": {},
   "source": [
    "# 2. Manual"
   ]
  },
  {
   "cell_type": "code",
   "execution_count": 80,
   "metadata": {},
   "outputs": [
    {
     "name": "stderr",
     "output_type": "stream",
     "text": [
      "C:\\Users\\lorenzo.riches\\anaconda\\envs\\hrm\\lib\\site-packages\\ipykernel_launcher.py:7: SettingWithCopyWarning: \n",
      "A value is trying to be set on a copy of a slice from a DataFrame.\n",
      "Try using .loc[row_indexer,col_indexer] = value instead\n",
      "\n",
      "See the caveats in the documentation: http://pandas.pydata.org/pandas-docs/stable/indexing.html#indexing-view-versus-copy\n",
      "  import sys\n"
     ]
    },
    {
     "name": "stdout",
     "output_type": "stream",
     "text": [
      "total samples:  509\n",
      "total samples:  509\n",
      "total samples:  509\n",
      "total samples:  509\n",
      "total samples:  509\n",
      "total samples:  509\n",
      "total samples:  509\n",
      "total samples:  509\n",
      "total samples:  509\n",
      "total samples:  509\n"
     ]
    }
   ],
   "source": [
    "from sklearn.model_selection import GridSearchCV, KFold, cross_val_score\n",
    "from sklearn.linear_model import Ridge\n",
    "import numpy as np\n",
    "parameters = {\"alpha\": [0.001, 0.01, 0.1, 1, 10, 100, 1000]}\n",
    "estimator = Ridge()\n",
    "data = X[features_list]\n",
    "data['y'] = y\n",
    "cv_loops = 10\n",
    "train_samps = 400\n",
    "test_samps = 109\n",
    "\n",
    "results_y = []\n",
    "results_yhat = []\n",
    "\n",
    "for i in range(cv_loops):\n",
    "    print('total samples: ',data.shape[0])\n",
    "    \n",
    "    data = data.sample(frac=1).reset_index(drop=True)\n",
    "    train = data.loc[:train_samps, :]\n",
    "    test = data.loc[train_samps:, :]\n",
    "\n",
    "    grid_cv = KFold(4, shuffle=True, random_state=i*333)\n",
    "    gs = GridSearchCV(estimator=estimator, param_grid=parameters, cv=grid_cv, scoring='neg_mean_absolute_error')\n",
    "\n",
    "    gs.fit(train[features_list], train['y'])\n",
    "        \n",
    "    results_y.extend(test['y'])\n",
    "    results_yhat.extend(gs.predict(test[features_list]))\n",
    "    "
   ]
  },
  {
   "cell_type": "code",
   "execution_count": 81,
   "metadata": {},
   "outputs": [],
   "source": [
    "pd.DataFrame({'y': results_y, 'yhat': results_yhat}).to_clipboard()"
   ]
  },
  {
   "cell_type": "markdown",
   "metadata": {},
   "source": [
    "# 3. Predictions"
   ]
  },
  {
   "cell_type": "code",
   "execution_count": 61,
   "metadata": {
    "collapsed": true
   },
   "outputs": [],
   "source": [
    "yhat_test = np.exp(model.predict(X[200:]))\n",
    "y_test = np.exp(y[200:])"
   ]
  },
  {
   "cell_type": "code",
   "execution_count": 62,
   "metadata": {
    "collapsed": true
   },
   "outputs": [],
   "source": [
    "test_res = pd.DataFrame({'pred': yhat_test, 'true': y_test})"
   ]
  },
  {
   "cell_type": "code",
   "execution_count": 64,
   "metadata": {},
   "outputs": [
    {
     "data": {
      "image/png": "[encoded data removed]",
      "text/plain": [
       "<matplotlib.figure.Figure at 0x1cdcd698c18>"
      ]
     },
     "metadata": {},
     "output_type": "display_data"
    }
   ],
   "source": [
    "plt.scatter(range(0,109), y_test, label='true')\n",
    "plt.scatter(range(0,109), yhat_test, label='pred')\n",
    "plt.ylim((0,10))\n",
    "plt.legend()\n",
    "plt.show()"
   ]
  },
  {
   "cell_type": "markdown",
   "metadata": {},
   "source": [
    "### Mapping Results"
   ]
  },
  {
   "cell_type": "code",
   "execution_count": 65,
   "metadata": {},
   "outputs": [
    {
     "name": "stderr",
     "output_type": "stream",
     "text": [
      "C:\\Users\\lorenzo.riches\\AppData\\Local\\Continuum\\anaconda3\\envs\\py35env\\lib\\site-packages\\ipykernel_launcher.py:2: SettingWithCopyWarning: \n",
      "A value is trying to be set on a copy of a slice from a DataFrame.\n",
      "Try using .loc[row_indexer,col_indexer] = value instead\n",
      "\n",
      "See the caveats in the documentation: http://pandas.pydata.org/pandas-docs/stable/indexing.html#indexing-view-versus-copy\n",
      "  \n"
     ]
    }
   ],
   "source": [
    "results = hh_data[['gpsLatitude', 'gpsLongitude', 'cons']]\n",
    "results['pred'] = np.exp(model.predict(X))"
   ]
  },
  {
   "cell_type": "code",
   "execution_count": null,
   "metadata": {
    "collapsed": true
   },
   "outputs": [],
   "source": [
    "# expanding rows depending on values in cons/pred"
   ]
  },
  {
   "cell_type": "code",
   "execution_count": 66,
   "metadata": {
    "collapsed": true
   },
   "outputs": [],
   "source": [
    "plot_df = results.groupby(['gpsLatitude', 'gpsLongitude'], as_index=False).sum()"
   ]
  },
  {
   "cell_type": "code",
   "execution_count": 68,
   "metadata": {
    "collapsed": true
   },
   "outputs": [],
   "source": [
    "plot_df = plot_df.loc[plot_df.index.repeat(plot_df['cons'].astype(int))].reset_index(drop=True)"
   ]
  },
  {
   "cell_type": "code",
   "execution_count": 76,
   "metadata": {
    "collapsed": true
   },
   "outputs": [],
   "source": [
    "import gmplot\n",
    "gmap = gmplot.GoogleMapPlotter(1.268255, 32.541539, 8)\n",
    "gmap.heatmap(plot_df['gpsLatitude'], plot_df['gpsLongitude'], dissipating=True, threshold=1, radius=50, gradient=None, opacity=0.6)\n",
    "gmap.draw(\"mymap.html\")"
   ]
  }
 ],
 "metadata": {
  "kernelspec": {
   "display_name": "Python 3",
   "language": "python",
   "name": "python3"
  },
  "language_info": {
   "codemirror_mode": {
    "name": "ipython",
    "version": 3
   },
   "file_extension": ".py",
   "mimetype": "text/x-python",
   "name": "python",
   "nbconvert_exporter": "python",
   "pygments_lexer": "ipython3",
   "version": "3.6.6"
  }
 },
 "nbformat": 4,
 "nbformat_minor": 1
}
